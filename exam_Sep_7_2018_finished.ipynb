{
 "cells": [
  {
   "cell_type": "markdown",
   "metadata": {},
   "source": [
    "Before you turn this problem in, make sure everything runs as expected. First, **restart the kernel** (in the menubar, select Kernel$\\rightarrow$Restart) and then **run all cells** (in the menubar, select Cell$\\rightarrow$Run All).\n",
    "\n",
    "Make sure you fill in any place that says `YOUR CODE HERE` or \"YOUR ANSWER HERE\", as well as your name and collaborators below:"
   ]
  },
  {
   "cell_type": "code",
   "execution_count": null,
   "metadata": {},
   "outputs": [],
   "source": [
    "NAME = \"Florentia de Loijer, 2010437\"\n",
    "COLLABORATORS = \"\""
   ]
  },
  {
   "cell_type": "markdown",
   "metadata": {},
   "source": [
    "---"
   ]
  },
  {
   "cell_type": "markdown",
   "metadata": {
    "deletable": false,
    "editable": false,
    "nbgrader": {
     "checksum": "e53eb7da4b90cccdbeb5924177a0d295",
     "grade": false,
     "grade_id": "cell-bace731f185b39bb",
     "locked": true,
     "schema_version": 1,
     "solution": false
    }
   },
   "source": [
    "Fill in the cell above to provide us with your name and student number, like\n",
    "\n",
    "NAME = \"Adam Smith, #student number#\"\n",
    "\n",
    "where you replace \"#student number#\" with your ... (very good!)\n",
    "\n",
    "Unfortunately, you are not allowed to work with \"COLLABORATORS\" in this exam."
   ]
  },
  {
   "cell_type": "markdown",
   "metadata": {
    "deletable": false,
    "editable": false,
    "nbgrader": {
     "checksum": "6cd862f4345c0a072c59a404cda0ba85",
     "grade": false,
     "grade_id": "cell-895e9a7b94992ec9",
     "locked": true,
     "schema_version": 1,
     "solution": false
    }
   },
   "source": [
    "# exam September 7th, 2018\n",
    "\n",
    "With this python part of the exam you can earn at max. 4 points.\n",
    "\n"
   ]
  },
  {
   "cell_type": "markdown",
   "metadata": {
    "deletable": false,
    "editable": false,
    "nbgrader": {
     "checksum": "e7913cd5c9f8f9e4ad1b4b7e924a9a84",
     "grade": false,
     "grade_id": "cell-540987818af25557",
     "locked": true,
     "schema_version": 1,
     "solution": false
    }
   },
   "source": [
    "\n",
    "In the first cell of the notebook, give us your name and student number in the way indicated above. \n",
    "\n",
    "Fill in the notebook (see below for code cells and text cells that you need to fill in).\n",
    "\n",
    "If you look at the menus above (File, Edit, View etc.), there is one called \"Cell\". If you click on this, you can change the \"Cell Type\". Choose \"Code\" when you are typing python or R code. Choose \"Markdown\" when you are typing, well, markdown.\n",
    "\n",
    "When you finish the notebook, make sure that you **save it with the output of your code included**. \n",
    "\n",
    "Then put it on github, e.g. by dragging it onto github (see instructions below). \n",
    "\n",
    "Finally, add a link to your README file with the name of this exam: \"Exam September 7, 2018\".\n",
    "\n"
   ]
  },
  {
   "cell_type": "markdown",
   "metadata": {
    "deletable": false,
    "editable": false,
    "nbgrader": {
     "checksum": "de320ce66e4b6f0a0457a258dea1bd41",
     "grade": false,
     "grade_id": "cell-e1cf88cb799f1f43",
     "locked": true,
     "schema_version": 1,
     "solution": false
    }
   },
   "source": [
    "## Demand and equilibrium\n",
    "\n",
    "We start by importing the usual libraries."
   ]
  },
  {
   "cell_type": "code",
   "execution_count": 1,
   "metadata": {
    "deletable": false,
    "editable": false,
    "nbgrader": {
     "checksum": "7bd770ef54db47c3b6c8d0e31f6baef6",
     "grade": false,
     "grade_id": "cell-b895769bf40e183a",
     "locked": true,
     "schema_version": 1,
     "solution": false
    }
   },
   "outputs": [],
   "source": [
    "import matplotlib.pyplot as plt\n",
    "import pandas as pd\n",
    "import numpy as np\n",
    "from scipy import optimize\n",
    "%matplotlib inline"
   ]
  },
  {
   "cell_type": "markdown",
   "metadata": {
    "deletable": false,
    "editable": false,
    "nbgrader": {
     "checksum": "74eea1383af9a678cca5cd1641bd8cbd",
     "grade": false,
     "grade_id": "cell-83284c4090d6de8c",
     "locked": true,
     "schema_version": 1,
     "solution": false
    }
   },
   "source": [
    "#### a) [1 point] Explain in words what the following code does. Which property of booleans in python do we use for this to work?\n",
    "\n",
    "[hint: copy-paste part of the code in a cell to evaluate each step separately]"
   ]
  },
  {
   "cell_type": "code",
   "execution_count": 2,
   "metadata": {
    "deletable": false,
    "editable": false,
    "nbgrader": {
     "checksum": "a107c376d499a16a0e27d813fba3c499",
     "grade": false,
     "grade_id": "cell-7770128c0a989c60",
     "locked": true,
     "schema_version": 1,
     "solution": false
    }
   },
   "outputs": [
    {
     "data": {
      "text/plain": [
       "0.625"
      ]
     },
     "execution_count": 2,
     "metadata": {},
     "output_type": "execute_result"
    }
   ],
   "source": [
    "np.sum(np.array([1,2,3,4,5,6,7,8])>3)/len(np.array([1,2,3,4,5,6,7,8])>3)"
   ]
  },
  {
   "cell_type": "code",
   "execution_count": 4,
   "metadata": {},
   "outputs": [
    {
     "data": {
      "text/plain": [
       "5"
      ]
     },
     "execution_count": 4,
     "metadata": {},
     "output_type": "execute_result"
    }
   ],
   "source": [
    "np.sum(np.array([1,2,3,4,5,6,7,8])>3)"
   ]
  },
  {
   "cell_type": "code",
   "execution_count": 7,
   "metadata": {},
   "outputs": [
    {
     "data": {
      "text/plain": [
       "8"
      ]
     },
     "execution_count": 7,
     "metadata": {},
     "output_type": "execute_result"
    }
   ],
   "source": [
    "len(np.array([1,2,3,4,5,6,7,8])>3)"
   ]
  },
  {
   "cell_type": "markdown",
   "metadata": {
    "deletable": false,
    "nbgrader": {
     "checksum": "3a32df4588a1c3424a5d2e79404d1f9f",
     "grade": true,
     "grade_id": "cell-8a5761555a34b60b",
     "locked": false,
     "points": 1,
     "schema_version": 1,
     "solution": true
    }
   },
   "source": [
    "The code shows us for the first part, how many numbers are bigger than 3 (of these numbers, there are 5 numbers bigger than 3). This is shown by the use of the words \"True\" and \"False\", where true is assigned to those numbers that are bigger than 3.\n",
    "The second part of the code gives the total amount of numbers (which is 8).\n",
    "The full code divides the first part by the second part (5/8), which gives the answer 0.625.\n",
    "This means that 62,5 percent of the numbers is bigger than the number 3.\n",
    "\n",
    "So the booleans property that is used is the \"True\" and \"False\" part, which can also be written as 0 for False, and 1 for True."
   ]
  },
  {
   "cell_type": "markdown",
   "metadata": {
    "deletable": false,
    "editable": false,
    "nbgrader": {
     "checksum": "954d5a96439e4265a384d91a97b22648",
     "grade": false,
     "grade_id": "cell-1a9c57d4d1fc34dc",
     "locked": true,
     "schema_version": 1,
     "solution": false
    }
   },
   "source": [
    "Consider a market with 1000 consumers. Each consumer is willing to buy either 1 or 0 units of the product in this market. If the consumer does not buy, her utility equals 0.\n",
    "\n",
    "The vector of valuations of all 1000 consumers in the market is given by the vector `vector_utilities` below.\n"
   ]
  },
  {
   "cell_type": "code",
   "execution_count": 8,
   "metadata": {
    "deletable": false,
    "editable": false,
    "nbgrader": {
     "checksum": "916e0335b3020a8c0ff45e237001f8b7",
     "grade": false,
     "grade_id": "cell-d33704e6e42e5387",
     "locked": true,
     "schema_version": 1,
     "solution": false
    }
   },
   "outputs": [],
   "source": [
    "N_consumers = 1000\n",
    "vector_utilities = np.random.normal(10,3,size=N_consumers)"
   ]
  },
  {
   "cell_type": "code",
   "execution_count": 9,
   "metadata": {},
   "outputs": [
    {
     "data": {
      "text/plain": [
       "array([ 9.36788658,  7.32118955,  9.84705807, 14.18000901, 11.42793701,\n",
       "       11.21829599, 11.62365917,  9.43275795, 14.70440813,  8.35818284,\n",
       "        7.51318404,  8.81296293, 10.99517287, 10.25806284,  9.2386851 ,\n",
       "       13.11215849, 10.50676098, 13.19801912,  1.32249155, 13.50244107,\n",
       "        8.40028379, 12.11138631, 10.91362836,  2.8326601 ,  4.65455488,\n",
       "       12.58497585, 15.41568505, 11.81048376, 11.13675279, 11.71917597,\n",
       "       13.01656924, 11.56010512, 10.06533364, 12.96482596,  9.11183484,\n",
       "       11.1065745 ,  9.70688602, 11.36936538, 13.70576944,  6.47702393,\n",
       "       11.65571536,  7.37681261, 10.88499434, 10.2879491 ,  9.18094874,\n",
       "        7.4691018 , 11.60465027, 11.16037928, 11.0677783 , 11.0331887 ,\n",
       "       14.78129745,  9.6335287 ,  2.48720085,  8.44588356,  6.9371341 ,\n",
       "        5.5501672 , 10.22554068,  9.48593345, 11.11964129,  9.42135892,\n",
       "       11.06874532, 11.55490272, 11.03376633, 10.86862964,  8.15443735,\n",
       "        9.65579761, 11.5274587 ,  7.53428525, 10.68152943,  8.72745699,\n",
       "        7.40054168,  5.28945328, 13.33457127,  8.7435284 ,  9.18623898,\n",
       "        6.47571972, 10.47298733, 10.47357945,  4.34268769, 10.91804675,\n",
       "        7.30122074,  7.94281964,  4.62211358, 14.32815562, 12.17617551,\n",
       "       11.32178673,  8.2426412 ,  8.36462905, 11.67999525,  5.51897149,\n",
       "       11.52646405, 10.70647816,  5.28277665,  7.37493782, 16.34570525,\n",
       "        4.70963363, 15.19392238,  6.681512  , 10.66283489, 11.65824571,\n",
       "       10.71070896,  9.2190374 ,  7.03068636,  5.33626487,  9.85191927,\n",
       "       11.51941189,  2.35215907, 13.77496545, 10.67911853,  7.13657076,\n",
       "        5.05666885,  3.79162522, 14.09740566,  6.63095867, 11.54616488,\n",
       "       11.96039811,  3.38153543, 12.87549733,  9.56051727,  9.42713965,\n",
       "        7.4112187 ,  7.99450291,  7.90075994,  8.70825345,  8.59034944,\n",
       "       12.11568508,  9.39308844,  9.88504631, 14.28844363, 14.59692475,\n",
       "       11.44647603,  8.46987885,  9.93685871, 10.46644624, 13.39494259,\n",
       "       17.08961033,  7.97371087,  8.16943639,  7.23871537, 10.99875201,\n",
       "        6.80218441,  5.84239324, 13.25646603,  6.93316622, 13.8517054 ,\n",
       "       12.22419453, 10.37492077, 12.15775057, 11.9490011 ,  7.61052677,\n",
       "        7.71595387,  9.63335998, 12.90279421,  7.3493083 , 12.04928945,\n",
       "       10.07933522, 10.547514  , 11.64581585,  4.68739635,  5.98449684,\n",
       "       12.29505539, 11.39874965,  7.66162504, 13.17740975,  5.91959008,\n",
       "        8.73334532,  8.9539857 ,  5.83314264, 14.42269364, 10.65904361,\n",
       "       11.30640206,  4.20453331,  8.87582172, 12.80858208,  9.53935622,\n",
       "       11.25280901, 13.01331643,  9.11534392, 11.07394668, 12.08724759,\n",
       "        9.66047288,  9.30939511, 14.13978209, 12.51051401, 11.73225595,\n",
       "        7.09972906,  8.85576733,  7.83111694, 11.83575112, 13.43018616,\n",
       "       10.34145105, 13.80313294, 10.71642721,  6.42794794,  9.17554123,\n",
       "       11.50494074, 12.01181225, 10.18571389,  9.97693055,  9.28566274,\n",
       "        9.54491424, 11.49340557, 15.00434701, 12.73007685,  7.90880284,\n",
       "       10.35281044, 12.37916497,  8.89413871,  7.30044542,  8.09740794,\n",
       "        8.88280652,  7.03252201,  7.89245753,  9.81594206, 12.85809692,\n",
       "       10.67038351, 12.93407418,  5.33691334,  8.68363877, 10.34912175,\n",
       "       10.77074684, 11.60508596, 11.24342311,  7.91101797,  8.76541188,\n",
       "       12.70245384, 12.36097462,  4.94721388, 10.13203828, 13.81201818,\n",
       "       13.86103897,  8.95662232,  4.802046  , 10.36772015, 10.07158559,\n",
       "        8.51820751, 12.33148214, 14.63961257, 11.6771806 ,  9.27250941,\n",
       "        9.48348005, 10.87689879,  9.956409  , 14.79633313, 12.54864942,\n",
       "        8.98365156, 10.38189921, 11.91375523, 10.53955721, 12.94920557,\n",
       "       12.5467107 ,  9.42664715, 11.1221995 ,  9.81541826, 13.6594435 ,\n",
       "        5.14249966, 13.25226724,  8.55894492,  9.26824845, 10.33507549,\n",
       "        9.17815295,  6.46441943, 11.16367957,  6.30768144, 11.605284  ,\n",
       "       10.49752545, 11.61106724,  8.4670005 ,  6.60073754, 10.37156381,\n",
       "       11.09863674, 11.86920058, 10.06086814, 10.89163302,  8.58887488,\n",
       "        6.0746717 ,  8.22403824,  9.56070201,  8.4122262 ,  5.37976599,\n",
       "       14.31954974, 15.3727167 , -1.87173374, 11.59478276,  7.94904375,\n",
       "       11.64498298, 10.1480798 ,  9.37277616, 12.4762608 ,  5.43100934,\n",
       "        7.55417446, 14.37405316,  9.56313953,  3.99618452, 14.36494044,\n",
       "       10.44658348,  8.90201007,  7.62063917, 12.36276961,  5.70139131,\n",
       "        7.36757046, 11.36712605,  4.11521757, 13.38425593, 13.88681503,\n",
       "       13.51496547, 11.37403344, 11.56789627,  7.18286354, 12.51589376,\n",
       "       12.81033566, 10.49817516, 11.94878743, 13.42310746,  7.51210886,\n",
       "        4.28563377,  6.68894501, 12.47353125,  5.33031062, 11.81725039,\n",
       "        6.36931355, 17.96382688,  7.52194688,  8.2677257 , 12.55770068,\n",
       "        9.27549809, 11.13742044, 13.632712  , 14.49161401, 11.74545516,\n",
       "        9.2505964 , 11.1312251 , 11.99874509, 12.14437869, 13.08832241,\n",
       "       10.491482  ,  8.74664779, 11.47481234,  9.74918109, 13.30101443,\n",
       "       13.42334652,  8.35165365,  8.2155389 , 15.99902461,  8.02417135,\n",
       "        7.31183974, 12.03008838, 13.37404702, 10.5475937 ,  5.59255629,\n",
       "        7.63279012, 10.96656092, 12.60120116,  4.19579364,  6.36682114,\n",
       "       13.66877846,  8.44105187, 10.64353886,  8.88265267,  9.09408825,\n",
       "        9.37786359,  8.58408297,  9.96528513, 15.07358558, 13.5964388 ,\n",
       "        4.2061806 ,  6.65737204, 12.12109454,  7.44123078,  9.56537641,\n",
       "       11.11491891,  9.55060603, 12.6175687 ,  9.16596807, 15.26045772,\n",
       "       11.36770865,  8.75219705,  9.65144525,  9.7778613 , 11.31140919,\n",
       "       11.16379177,  6.65402196, 10.56259307,  7.16397977, 14.6966431 ,\n",
       "       13.76316959,  7.43316555, 11.12402322,  5.94544786,  9.7843327 ,\n",
       "        9.3601404 , 13.30744318, 10.78255741, 11.97668448, 13.47640718,\n",
       "       10.43012825, 10.39798584,  7.92909196,  8.79837175, 12.48650601,\n",
       "       12.87622586,  6.55476453, 10.3057507 , 12.43907618,  9.62114548,\n",
       "        9.19423255,  9.50577482, 13.22086698,  9.0014693 , 14.71847379,\n",
       "        9.63518675, 12.10225792,  9.69149413, 11.6986268 ,  8.34547057,\n",
       "       10.19740516,  9.27040087,  7.79236416,  9.96549914, 13.69403444,\n",
       "        5.36059232,  9.10822509, 13.45672543,  8.4159606 ,  7.28178328,\n",
       "       13.73651933, 12.49500069,  8.59165464,  8.05756586,  8.63995893,\n",
       "        5.65389665,  9.71749968, 12.89377234,  8.56260627, 10.82411473,\n",
       "        6.34125213,  9.17921275, 11.12048257,  9.26123727, 11.5578644 ,\n",
       "        8.25109198,  8.90460563,  9.09712084, 10.81736393, 10.45264514,\n",
       "        5.21656307, 12.28916394,  6.27325474, 13.95680181, 12.22466807,\n",
       "        7.15841278, 12.23789294,  7.06336797, 12.18296276,  5.00284103,\n",
       "        7.92972353,  9.28237847, 13.82389143,  8.42467673,  9.53003137,\n",
       "       13.06501562,  9.3225834 , 15.16053462, 15.07627931,  9.2163552 ,\n",
       "        8.50263224,  6.07091092,  7.76642288,  6.74918593, 12.33303847,\n",
       "        9.3835885 , 15.78854053,  9.53760978, 10.85371038, 12.96900895,\n",
       "        6.66281604, 10.27813399, 11.64867951,  6.74697596,  5.54268708,\n",
       "       10.84082797, 11.97732027, 10.55188579,  9.66528817,  5.53270562,\n",
       "       12.04980209,  4.63064877, 15.35897839,  6.6446957 , 10.76391671,\n",
       "        5.50940029, 11.68947006,  8.13881066, 13.13959443,  6.97880605,\n",
       "       11.36069093, 11.52977602,  8.80651249, 11.37750437,  8.70454709,\n",
       "       11.31379279,  5.5798247 , 10.99064113,  7.43795096, 11.63366084,\n",
       "        9.8933205 ,  9.22137157, 13.28604641, 10.36796033,  9.45581137,\n",
       "       16.13999701,  8.0169399 , 10.30272296,  7.65962622,  8.71507186,\n",
       "       13.36299207,  9.40051322, 11.43638227, 12.30791788,  6.62473476,\n",
       "        8.94564031,  8.18710261,  9.00271121, 11.34903479,  9.66589577,\n",
       "       12.89490949, 10.76326352, 10.55648787,  9.74339373, 12.27207495,\n",
       "       13.45100075,  6.42272382, 10.2238076 , 13.42013288,  9.77694384,\n",
       "       11.56592104,  6.98511548,  2.46946878, 18.57858448,  5.07450108,\n",
       "        6.76772734,  8.94332087,  9.6120177 ,  9.04045937,  7.49599109,\n",
       "       11.97641496,  7.95973862, 12.91369323,  8.09880011,  4.24183966,\n",
       "       15.09677835, 11.19358121,  5.67424013,  9.11200724,  9.55308198,\n",
       "        8.36788902,  8.5190621 ,  9.91609396, 11.7960313 ,  8.54381398,\n",
       "        6.11929012,  7.06946887, 14.86043038,  4.05774816,  9.54903871,\n",
       "       12.78384467, 11.72772295, 11.1221659 , 10.62322743, 14.17817859,\n",
       "        9.35070659, 11.63485953,  7.90139275,  6.52285618, 12.16718159,\n",
       "       11.05711533,  5.75587837, 10.46282071, 11.85248079, 15.4035392 ,\n",
       "        9.93694818, 10.00297291,  5.76389564,  8.19400644,  9.12154721,\n",
       "       10.9508326 ,  8.56746803, 13.06545276, 11.09513485, 14.38139553,\n",
       "       12.03699486,  9.34824736, 10.4070434 , 10.18556904,  7.83530639,\n",
       "        6.89764819,  8.64630413,  9.21032155,  8.77257758, 12.04736419,\n",
       "        6.89734753,  7.48804223,  8.12158327,  8.68666957, 12.0916202 ,\n",
       "        8.23724473,  8.25289103, 10.68237483,  5.43087405, 10.16507537,\n",
       "       14.11999384, 11.78943766, 10.42796978,  9.70802215,  8.52252728,\n",
       "        8.13266184, 10.20110658, 10.79404889, 11.64756386, 13.41463925,\n",
       "       10.32827048, 12.57044276, 15.06302156,  7.29477043,  6.58408396,\n",
       "       12.22598409,  9.92709803, 11.08433748, 11.16637767, 10.18218955,\n",
       "        6.44631266,  5.73765238,  9.40301846,  5.97837051,  9.56345328,\n",
       "       10.7890161 ,  3.21625436,  4.31994791,  8.0926024 ,  7.50275566,\n",
       "       10.69668691, 13.3941476 , 11.35269933, 11.40297422, 10.1514647 ,\n",
       "       10.51641989,  8.37636496,  5.5402745 ,  9.21133356,  8.83967133,\n",
       "        9.51978047,  3.2322785 , 11.72948279, 11.28500058, 15.04505614,\n",
       "       11.7111057 , 10.03222647, 11.9902171 , 14.75365147,  9.32187913,\n",
       "        9.47467689, 10.58918532, 14.16523385, 12.89919066, 12.21883302,\n",
       "        8.32699391, 13.45723653, 12.32183942, 12.31187029,  8.16339701,\n",
       "       14.41755985, 10.6038973 , 10.11289294, 10.35483904,  6.97810461,\n",
       "        6.51125254,  9.82709368,  6.83408594, 11.46933372, 12.89088398,\n",
       "        8.15516538,  9.96160409,  8.16407672,  5.70233442, 15.26517318,\n",
       "       11.38245441,  6.46158372,  4.4639127 , 12.43543722,  7.79604916,\n",
       "        7.01531593,  8.27208211, 10.16304678,  7.48313471,  5.33049916,\n",
       "        6.71548842, 10.52697736,  4.90821658, 11.39049029,  9.07689438,\n",
       "       11.68761297,  9.39029054,  8.67420698,  8.98659817,  7.3902521 ,\n",
       "        9.9304698 , 15.80701376,  6.65343883, 11.88686689,  6.81675004,\n",
       "       10.52034165, 10.34959627, 11.02483324, 14.93835675,  9.61847668,\n",
       "        9.00718654,  5.73453472, 10.06855254, 12.43221345,  9.88610948,\n",
       "       11.05758171,  8.67989373, 10.10107126,  8.40292359,  6.7750599 ,\n",
       "        9.76950528,  9.53993355,  6.33891687,  5.98485287, 11.22121464,\n",
       "        9.9512909 ,  3.41321105,  6.76819466,  7.48593443,  6.37469046,\n",
       "       10.86897577,  5.91448723, 14.2093377 , 14.82820219, 11.10140939,\n",
       "       11.54975898,  9.83279763, 12.63305103, 13.37420283, 10.66062084,\n",
       "       11.65963855, 10.32081125, 10.16739659,  5.87578508, 12.23668816,\n",
       "        8.18830441,  9.73426389,  7.21543242, 13.69860709, 10.22342788,\n",
       "        9.44049657, 13.29951099, 11.34004371, 10.37069478, 16.92775483,\n",
       "       12.35101718, 12.64218489,  8.87415558, 13.83713693,  6.30201248,\n",
       "        6.4863315 ,  5.19640958,  8.20181608,  5.89257318,  9.69251497,\n",
       "       18.86392543, 10.68090594,  7.58131255,  7.2881725 ,  6.66734239,\n",
       "       10.425987  , 14.58739873, 16.63180714,  9.46299829,  9.82014192,\n",
       "        7.8314648 , 11.12446377, 11.1158264 ,  6.67449522, 12.66104949,\n",
       "       14.96550688, 11.29441563, 15.98135229, 11.73936924, 10.86791384,\n",
       "       10.84029828,  9.95755441,  9.70022173, 14.46874   , 12.82887968,\n",
       "       14.620511  ,  9.06439297, 12.46149713, 11.14287468,  8.35847677,\n",
       "       10.73932731, 11.39584553,  7.52499051,  9.18189774, 11.542715  ,\n",
       "        9.34221326,  9.2738849 , 12.83916268, 13.02069542,  9.56587532,\n",
       "       11.3269437 , 17.48158004, 11.8536987 , 13.68160266,  8.8943798 ,\n",
       "        6.013109  , 15.10395258, 13.37018707, 12.73154419,  8.66413576,\n",
       "        9.20128238, 11.56934042,  8.24920152, 12.56778089,  6.34157596,\n",
       "        9.07891761, 14.54604467, 11.12187179, 12.41879934,  9.36535353,\n",
       "        8.87255856,  8.91371084, 14.2355584 ,  8.0266677 , 18.33293681,\n",
       "       10.00307472,  8.09675655, 10.17235347,  6.64990397, 11.16441893,\n",
       "       16.08306639,  7.60871214,  9.66480357,  6.58391563,  6.62241538,\n",
       "       11.4302093 , 10.48144814,  6.7519882 , 10.25144663, 12.87698511,\n",
       "       10.76187089,  9.32638443,  9.65689789, 15.09914769,  9.71424522,\n",
       "        6.1359924 , 13.68920163,  8.5616433 ,  7.77114073,  9.79138642,\n",
       "       14.71097493,  9.66805474,  8.10749629, 11.48320616, 15.16189528,\n",
       "        3.75626762,  9.43270663, 12.01223649, 12.18464615,  9.81112731,\n",
       "        9.42455242,  9.6619593 , 11.73214187, 10.96922416, 15.10546395,\n",
       "        5.38955573,  2.93417783,  8.31955201, 15.67997251, 10.43762058,\n",
       "        9.35518121,  6.95456761, 12.67265324, 10.28645873,  8.52574581,\n",
       "       10.3225749 ,  5.37301186, 14.97451746, 10.11057579, 11.02135526,\n",
       "        5.01320857,  5.7569939 , 13.91946622,  9.99609236, 14.44331035,\n",
       "       12.45502023, 11.71826758, 15.00368834,  5.23369576, 11.16674143,\n",
       "        4.18324387, 11.98141945, 11.55189335,  5.15757751, 10.51918898,\n",
       "       12.03578448,  9.23750528, 12.68927693, 13.63461237,  8.29746525,\n",
       "       12.33017838,  9.43610022, 13.11118331,  8.71656982,  9.60223816,\n",
       "        2.97892118,  9.82880207,  7.66754475,  5.57599564, 13.58140203,\n",
       "       13.35789943,  8.04517784,  8.21931301, 11.92428129, 12.17113247,\n",
       "       10.26105104,  7.67782241,  4.40209632, 13.88587791,  9.27405948,\n",
       "        9.80713623,  8.98615524,  8.03854147, 13.70067842,  7.5698686 ,\n",
       "        7.1397694 , 11.90447893,  4.52493434,  3.99668289,  8.335922  ,\n",
       "        8.00371868,  8.33354573, 10.73346969,  9.01917241,  7.95668205,\n",
       "       11.14762739, 12.98625562,  8.76495396,  4.77891287, 11.28124556,\n",
       "        6.59533569,  9.14477788, 10.96487247, 11.10485625,  9.09262217,\n",
       "       11.89525984, 12.16209675,  2.8261826 ,  9.97506447,  5.27532766,\n",
       "        4.24002331, 10.66801583,  8.75083145, 11.00830408, 15.91130058,\n",
       "        9.24773875,  4.18852748, 10.91827183,  3.59863722, 13.88492404,\n",
       "       12.1509908 , 10.32670355, 13.41161023, 13.10905577,  8.69532629,\n",
       "       10.35164952,  8.66715505, 13.85981408,  8.55455348,  8.0059353 ,\n",
       "       13.6197337 , 11.65621033, 13.26141628,  8.22599867, 12.17880024,\n",
       "       11.67654099,  7.20551806,  9.59607532,  8.91529156, 13.84619511,\n",
       "       12.1641413 ,  9.50434262,  9.49025734, 15.24851364,  2.73157065,\n",
       "       13.49205306,  7.81056308,  9.59659976, 12.41249979, 11.66326596])"
      ]
     },
     "execution_count": 9,
     "metadata": {},
     "output_type": "execute_result"
    }
   ],
   "source": [
    "np.random.normal(10,3,size=N_consumers)"
   ]
  },
  {
   "cell_type": "markdown",
   "metadata": {
    "deletable": false,
    "editable": false,
    "nbgrader": {
     "checksum": "384f67102189bb6ecdfb036b331c113a",
     "grade": false,
     "grade_id": "cell-3b8ee172d9950128",
     "locked": true,
     "schema_version": 1,
     "solution": false
    }
   },
   "source": [
    "#### b) [0.5 points] Explain what the code `np.random.normal` does."
   ]
  },
  {
   "cell_type": "markdown",
   "metadata": {
    "deletable": false,
    "nbgrader": {
     "checksum": "2169b1e7f731f29c623bcc250e54e587",
     "grade": true,
     "grade_id": "cell-a5e7853f661e19b2",
     "locked": false,
     "points": 0.5,
     "schema_version": 1,
     "solution": true
    }
   },
   "source": [
    "The code np.random.normal draws random samples from a normal distribution. The values within the code give first of all the mean, which shows that 10 is the centre of the distribution. The next value shows the standard deviation, which is the width or the spread of the sample (so the width is 3, which floats both directions around the mean of 10). Last of all, size is shown. In this case the size is based on the number of consumers. This size value gives the amount of samples drawn. \n",
    "\n",
    "So in this case there are a 1000 samples drawn, each having a number which is around 10 with a spread of 3 both ways."
   ]
  },
  {
   "cell_type": "markdown",
   "metadata": {
    "deletable": false,
    "editable": false,
    "nbgrader": {
     "checksum": "523c4611a9ddbfb2d6623e06f3607c07",
     "grade": false,
     "grade_id": "cell-4b33762aa4a601fe",
     "locked": true,
     "schema_version": 1,
     "solution": false
    }
   },
   "source": [
    "#### c) [1. point] (i) Create a histogram of the vector `vector_utilities`. (ii) Make sure that we have relative frequencies (not absolute numbers) on the vertical axis [hint: you can use google to figure out how this works] (iii) Put the label 'utility' on the horizontal axis and the label 'frequency' on the vertical axis."
   ]
  },
  {
   "cell_type": "code",
   "execution_count": 33,
   "metadata": {
    "deletable": false,
    "nbgrader": {
     "checksum": "16debdd606d4af967efa09bbca10b9bb",
     "grade": true,
     "grade_id": "cell-5ee215676b91f504",
     "locked": false,
     "points": 1,
     "schema_version": 1,
     "solution": true
    }
   },
   "outputs": [
    {
     "data": {
      "image/png": "[encoded data removed]",
      "text/plain": [
       "<matplotlib.figure.Figure at 0x138197d2710>"
      ]
     },
     "metadata": {},
     "output_type": "display_data"
    }
   ],
   "source": [
    "plt.hist(vector_utilities, normed=True, bins=30, color='darkred', edgecolor='black', label='relative utilities')\n",
    "plt.legend()\n",
    "plt.xlabel('utility')\n",
    "plt.ylabel('frequency')\n",
    "plt.show()"
   ]
  },
  {
   "cell_type": "markdown",
   "metadata": {
    "deletable": false,
    "editable": false,
    "nbgrader": {
     "checksum": "3485a92688a0345c2d40931951cee684",
     "grade": false,
     "grade_id": "cell-3cc076ae39753881",
     "locked": true,
     "schema_version": 1,
     "solution": false
    }
   },
   "source": [
    "#### d) [0.5 points] Complete the following function which gives for each price `p` the demand (number of consumers willing to buy at price `p`.\n",
    "\n",
    "[hint 1: what must be true for an element in `vector_utilities` for this consumer to buy the product?]\n",
    "\n",
    "[hint 2: part of what you learned under a) may be useful here]"
   ]
  },
  {
   "cell_type": "code",
   "execution_count": 89,
   "metadata": {
    "deletable": false,
    "nbgrader": {
     "checksum": "c1b2a7dbf7c6cdd23736d236c6672135",
     "grade": true,
     "grade_id": "cell-0f18e4fded25833f",
     "locked": false,
     "points": 0.5,
     "schema_version": 1,
     "solution": true
    }
   },
   "outputs": [],
   "source": [
    "def demand(p):\n",
    "   return bool(p/vector_utilities<1)\n",
    "p=[1,2,3,4,5,6,7,8,9,10,11,12,13,14,15,16,17,18,19,20]\n"
   ]
  },
  {
   "cell_type": "markdown",
   "metadata": {},
   "source": [
    "#### e) [0.5 points] Plot this demand function. Recall that economists tend to put quantity on the horizontal axis and price on the vertical axis.\n",
    "\n",
    "[hint: if for some reason you could not solve d) work with the following --incorrect-- demand function:\n",
    "\n",
    "`def demand(p):\n",
    "   return 1000-p`\n",
    "\n",
    "to finish the exam.]"
   ]
  },
  {
   "cell_type": "code",
   "execution_count": 90,
   "metadata": {
    "deletable": false,
    "nbgrader": {
     "checksum": "999db468136d31b16196015f24ac5fa7",
     "grade": true,
     "grade_id": "cell-e88dc4842fb2c38c",
     "locked": false,
     "points": 0.5,
     "schema_version": 1,
     "solution": true
    }
   },
   "outputs": [
    {
     "ename": "ValueError",
     "evalue": "x and y must have same first dimension, but have shapes (1,) and (20,)",
     "output_type": "error",
     "traceback": [
      "\u001b[1;31m---------------------------------------------------------------------------\u001b[0m",
      "\u001b[1;31mValueError\u001b[0m                                Traceback (most recent call last)",
      "\u001b[1;32m<ipython-input-90-5a72a393b8dc>\u001b[0m in \u001b[0;36m<module>\u001b[1;34m()\u001b[0m\n\u001b[1;32m----> 1\u001b[1;33m \u001b[0mplt\u001b[0m\u001b[1;33m.\u001b[0m\u001b[0mplot\u001b[0m\u001b[1;33m(\u001b[0m\u001b[0mdemand\u001b[0m\u001b[1;33m,\u001b[0m\u001b[0mp\u001b[0m\u001b[1;33m)\u001b[0m\u001b[1;33m\u001b[0m\u001b[0m\n\u001b[0m\u001b[0;32m      2\u001b[0m \u001b[0mplt\u001b[0m\u001b[1;33m.\u001b[0m\u001b[0mshow\u001b[0m\u001b[1;33m(\u001b[0m\u001b[1;33m)\u001b[0m\u001b[1;33m\u001b[0m\u001b[0m\n",
      "\u001b[1;32m~\\Anaconda3\\lib\\site-packages\\matplotlib\\pyplot.py\u001b[0m in \u001b[0;36mplot\u001b[1;34m(*args, **kwargs)\u001b[0m\n\u001b[0;32m   3259\u001b[0m                       mplDeprecation)\n\u001b[0;32m   3260\u001b[0m     \u001b[1;32mtry\u001b[0m\u001b[1;33m:\u001b[0m\u001b[1;33m\u001b[0m\u001b[0m\n\u001b[1;32m-> 3261\u001b[1;33m         \u001b[0mret\u001b[0m \u001b[1;33m=\u001b[0m \u001b[0max\u001b[0m\u001b[1;33m.\u001b[0m\u001b[0mplot\u001b[0m\u001b[1;33m(\u001b[0m\u001b[1;33m*\u001b[0m\u001b[0margs\u001b[0m\u001b[1;33m,\u001b[0m \u001b[1;33m**\u001b[0m\u001b[0mkwargs\u001b[0m\u001b[1;33m)\u001b[0m\u001b[1;33m\u001b[0m\u001b[0m\n\u001b[0m\u001b[0;32m   3262\u001b[0m     \u001b[1;32mfinally\u001b[0m\u001b[1;33m:\u001b[0m\u001b[1;33m\u001b[0m\u001b[0m\n\u001b[0;32m   3263\u001b[0m         \u001b[0max\u001b[0m\u001b[1;33m.\u001b[0m\u001b[0m_hold\u001b[0m \u001b[1;33m=\u001b[0m \u001b[0mwashold\u001b[0m\u001b[1;33m\u001b[0m\u001b[0m\n",
      "\u001b[1;32m~\\Anaconda3\\lib\\site-packages\\matplotlib\\__init__.py\u001b[0m in \u001b[0;36minner\u001b[1;34m(ax, *args, **kwargs)\u001b[0m\n\u001b[0;32m   1715\u001b[0m                     warnings.warn(msg % (label_namer, func.__name__),\n\u001b[0;32m   1716\u001b[0m                                   RuntimeWarning, stacklevel=2)\n\u001b[1;32m-> 1717\u001b[1;33m             \u001b[1;32mreturn\u001b[0m \u001b[0mfunc\u001b[0m\u001b[1;33m(\u001b[0m\u001b[0max\u001b[0m\u001b[1;33m,\u001b[0m \u001b[1;33m*\u001b[0m\u001b[0margs\u001b[0m\u001b[1;33m,\u001b[0m \u001b[1;33m**\u001b[0m\u001b[0mkwargs\u001b[0m\u001b[1;33m)\u001b[0m\u001b[1;33m\u001b[0m\u001b[0m\n\u001b[0m\u001b[0;32m   1718\u001b[0m         \u001b[0mpre_doc\u001b[0m \u001b[1;33m=\u001b[0m \u001b[0minner\u001b[0m\u001b[1;33m.\u001b[0m\u001b[0m__doc__\u001b[0m\u001b[1;33m\u001b[0m\u001b[0m\n\u001b[0;32m   1719\u001b[0m         \u001b[1;32mif\u001b[0m \u001b[0mpre_doc\u001b[0m \u001b[1;32mis\u001b[0m \u001b[1;32mNone\u001b[0m\u001b[1;33m:\u001b[0m\u001b[1;33m\u001b[0m\u001b[0m\n",
      "\u001b[1;32m~\\Anaconda3\\lib\\site-packages\\matplotlib\\axes\\_axes.py\u001b[0m in \u001b[0;36mplot\u001b[1;34m(self, *args, **kwargs)\u001b[0m\n\u001b[0;32m   1370\u001b[0m         \u001b[0mkwargs\u001b[0m \u001b[1;33m=\u001b[0m \u001b[0mcbook\u001b[0m\u001b[1;33m.\u001b[0m\u001b[0mnormalize_kwargs\u001b[0m\u001b[1;33m(\u001b[0m\u001b[0mkwargs\u001b[0m\u001b[1;33m,\u001b[0m \u001b[0m_alias_map\u001b[0m\u001b[1;33m)\u001b[0m\u001b[1;33m\u001b[0m\u001b[0m\n\u001b[0;32m   1371\u001b[0m \u001b[1;33m\u001b[0m\u001b[0m\n\u001b[1;32m-> 1372\u001b[1;33m         \u001b[1;32mfor\u001b[0m \u001b[0mline\u001b[0m \u001b[1;32min\u001b[0m \u001b[0mself\u001b[0m\u001b[1;33m.\u001b[0m\u001b[0m_get_lines\u001b[0m\u001b[1;33m(\u001b[0m\u001b[1;33m*\u001b[0m\u001b[0margs\u001b[0m\u001b[1;33m,\u001b[0m \u001b[1;33m**\u001b[0m\u001b[0mkwargs\u001b[0m\u001b[1;33m)\u001b[0m\u001b[1;33m:\u001b[0m\u001b[1;33m\u001b[0m\u001b[0m\n\u001b[0m\u001b[0;32m   1373\u001b[0m             \u001b[0mself\u001b[0m\u001b[1;33m.\u001b[0m\u001b[0madd_line\u001b[0m\u001b[1;33m(\u001b[0m\u001b[0mline\u001b[0m\u001b[1;33m)\u001b[0m\u001b[1;33m\u001b[0m\u001b[0m\n\u001b[0;32m   1374\u001b[0m             \u001b[0mlines\u001b[0m\u001b[1;33m.\u001b[0m\u001b[0mappend\u001b[0m\u001b[1;33m(\u001b[0m\u001b[0mline\u001b[0m\u001b[1;33m)\u001b[0m\u001b[1;33m\u001b[0m\u001b[0m\n",
      "\u001b[1;32m~\\Anaconda3\\lib\\site-packages\\matplotlib\\axes\\_base.py\u001b[0m in \u001b[0;36m_grab_next_args\u001b[1;34m(self, *args, **kwargs)\u001b[0m\n\u001b[0;32m    402\u001b[0m                 \u001b[0mthis\u001b[0m \u001b[1;33m+=\u001b[0m \u001b[0margs\u001b[0m\u001b[1;33m[\u001b[0m\u001b[1;36m0\u001b[0m\u001b[1;33m]\u001b[0m\u001b[1;33m,\u001b[0m\u001b[1;33m\u001b[0m\u001b[0m\n\u001b[0;32m    403\u001b[0m                 \u001b[0margs\u001b[0m \u001b[1;33m=\u001b[0m \u001b[0margs\u001b[0m\u001b[1;33m[\u001b[0m\u001b[1;36m1\u001b[0m\u001b[1;33m:\u001b[0m\u001b[1;33m]\u001b[0m\u001b[1;33m\u001b[0m\u001b[0m\n\u001b[1;32m--> 404\u001b[1;33m             \u001b[1;32mfor\u001b[0m \u001b[0mseg\u001b[0m \u001b[1;32min\u001b[0m \u001b[0mself\u001b[0m\u001b[1;33m.\u001b[0m\u001b[0m_plot_args\u001b[0m\u001b[1;33m(\u001b[0m\u001b[0mthis\u001b[0m\u001b[1;33m,\u001b[0m \u001b[0mkwargs\u001b[0m\u001b[1;33m)\u001b[0m\u001b[1;33m:\u001b[0m\u001b[1;33m\u001b[0m\u001b[0m\n\u001b[0m\u001b[0;32m    405\u001b[0m                 \u001b[1;32myield\u001b[0m \u001b[0mseg\u001b[0m\u001b[1;33m\u001b[0m\u001b[0m\n\u001b[0;32m    406\u001b[0m \u001b[1;33m\u001b[0m\u001b[0m\n",
      "\u001b[1;32m~\\Anaconda3\\lib\\site-packages\\matplotlib\\axes\\_base.py\u001b[0m in \u001b[0;36m_plot_args\u001b[1;34m(self, tup, kwargs)\u001b[0m\n\u001b[0;32m    382\u001b[0m             \u001b[0mx\u001b[0m\u001b[1;33m,\u001b[0m \u001b[0my\u001b[0m \u001b[1;33m=\u001b[0m \u001b[0mindex_of\u001b[0m\u001b[1;33m(\u001b[0m\u001b[0mtup\u001b[0m\u001b[1;33m[\u001b[0m\u001b[1;33m-\u001b[0m\u001b[1;36m1\u001b[0m\u001b[1;33m]\u001b[0m\u001b[1;33m)\u001b[0m\u001b[1;33m\u001b[0m\u001b[0m\n\u001b[0;32m    383\u001b[0m \u001b[1;33m\u001b[0m\u001b[0m\n\u001b[1;32m--> 384\u001b[1;33m         \u001b[0mx\u001b[0m\u001b[1;33m,\u001b[0m \u001b[0my\u001b[0m \u001b[1;33m=\u001b[0m \u001b[0mself\u001b[0m\u001b[1;33m.\u001b[0m\u001b[0m_xy_from_xy\u001b[0m\u001b[1;33m(\u001b[0m\u001b[0mx\u001b[0m\u001b[1;33m,\u001b[0m \u001b[0my\u001b[0m\u001b[1;33m)\u001b[0m\u001b[1;33m\u001b[0m\u001b[0m\n\u001b[0m\u001b[0;32m    385\u001b[0m \u001b[1;33m\u001b[0m\u001b[0m\n\u001b[0;32m    386\u001b[0m         \u001b[1;32mif\u001b[0m \u001b[0mself\u001b[0m\u001b[1;33m.\u001b[0m\u001b[0mcommand\u001b[0m \u001b[1;33m==\u001b[0m \u001b[1;34m'plot'\u001b[0m\u001b[1;33m:\u001b[0m\u001b[1;33m\u001b[0m\u001b[0m\n",
      "\u001b[1;32m~\\Anaconda3\\lib\\site-packages\\matplotlib\\axes\\_base.py\u001b[0m in \u001b[0;36m_xy_from_xy\u001b[1;34m(self, x, y)\u001b[0m\n\u001b[0;32m    241\u001b[0m         \u001b[1;32mif\u001b[0m \u001b[0mx\u001b[0m\u001b[1;33m.\u001b[0m\u001b[0mshape\u001b[0m\u001b[1;33m[\u001b[0m\u001b[1;36m0\u001b[0m\u001b[1;33m]\u001b[0m \u001b[1;33m!=\u001b[0m \u001b[0my\u001b[0m\u001b[1;33m.\u001b[0m\u001b[0mshape\u001b[0m\u001b[1;33m[\u001b[0m\u001b[1;36m0\u001b[0m\u001b[1;33m]\u001b[0m\u001b[1;33m:\u001b[0m\u001b[1;33m\u001b[0m\u001b[0m\n\u001b[0;32m    242\u001b[0m             raise ValueError(\"x and y must have same first dimension, but \"\n\u001b[1;32m--> 243\u001b[1;33m                              \"have shapes {} and {}\".format(x.shape, y.shape))\n\u001b[0m\u001b[0;32m    244\u001b[0m         \u001b[1;32mif\u001b[0m \u001b[0mx\u001b[0m\u001b[1;33m.\u001b[0m\u001b[0mndim\u001b[0m \u001b[1;33m>\u001b[0m \u001b[1;36m2\u001b[0m \u001b[1;32mor\u001b[0m \u001b[0my\u001b[0m\u001b[1;33m.\u001b[0m\u001b[0mndim\u001b[0m \u001b[1;33m>\u001b[0m \u001b[1;36m2\u001b[0m\u001b[1;33m:\u001b[0m\u001b[1;33m\u001b[0m\u001b[0m\n\u001b[0;32m    245\u001b[0m             raise ValueError(\"x and y can be no greater than 2-D, but have \"\n",
      "\u001b[1;31mValueError\u001b[0m: x and y must have same first dimension, but have shapes (1,) and (20,)"
     ]
    },
    {
     "data": {
      "image/png": "[encoded data removed]",
      "text/plain": [
       "<matplotlib.figure.Figure at 0x1381845ae48>"
      ]
     },
     "metadata": {},
     "output_type": "display_data"
    }
   ],
   "source": [
    "plt.plot(demand,p)\n",
    "plt.show()"
   ]
  },
  {
   "cell_type": "markdown",
   "metadata": {
    "deletable": false,
    "editable": false,
    "nbgrader": {
     "checksum": "4465308442518b71a3aabe5c50806149",
     "grade": false,
     "grade_id": "cell-1f9775ff27f62024",
     "locked": true,
     "schema_version": 1,
     "solution": false
    }
   },
   "source": [
    "Assume that there is a fixed supply of 400 units of this product. Consider the following function `excess demand`."
   ]
  },
  {
   "cell_type": "code",
   "execution_count": 39,
   "metadata": {
    "deletable": false,
    "editable": false,
    "nbgrader": {
     "checksum": "7483b16646d39708aeaa8cf5e4a50198",
     "grade": false,
     "grade_id": "cell-09b4afb1c848ad52",
     "locked": true,
     "schema_version": 1,
     "solution": false
    }
   },
   "outputs": [],
   "source": [
    "supply = 400\n",
    "def excess_demand(p):\n",
    "    return demand(p)-supply"
   ]
  },
  {
   "cell_type": "markdown",
   "metadata": {
    "deletable": false,
    "editable": false,
    "nbgrader": {
     "checksum": "b68a36561d750b4325b29a60cd85c95c",
     "grade": false,
     "grade_id": "cell-9847a5147fc6bc0b",
     "locked": true,
     "schema_version": 1,
     "solution": false
    }
   },
   "source": [
    "#### f) [0.5 points] Use a numerical solver to solve for the equilibrium price. Use the figure under e) to give a reasonable starting point for the numerical solver.\n",
    "\n",
    "[hint: what must be true for `excess_demand` at the equilibrium price?]"
   ]
  },
  {
   "cell_type": "code",
   "execution_count": 92,
   "metadata": {
    "deletable": false,
    "nbgrader": {
     "checksum": "d9385c965608e0babffe255a7d375e19",
     "grade": true,
     "grade_id": "cell-6c036cfb38c024d3",
     "locked": false,
     "points": 0.5,
     "schema_version": 1,
     "solution": true
    }
   },
   "outputs": [
    {
     "ename": "NameError",
     "evalue": "name 'reaction' is not defined",
     "output_type": "error",
     "traceback": [
      "\u001b[1;31m---------------------------------------------------------------------------\u001b[0m",
      "\u001b[1;31mNameError\u001b[0m                                 Traceback (most recent call last)",
      "\u001b[1;32m<ipython-input-92-d5c060decc52>\u001b[0m in \u001b[0;36m<module>\u001b[1;34m()\u001b[0m\n\u001b[0;32m      4\u001b[0m \u001b[0minitial_guess\u001b[0m \u001b[1;33m=\u001b[0m \u001b[1;33m[\u001b[0m\u001b[1;36m0\u001b[0m\u001b[1;33m]\u001b[0m\u001b[1;33m\u001b[0m\u001b[0m\n\u001b[0;32m      5\u001b[0m \u001b[1;33m\u001b[0m\u001b[0m\n\u001b[1;32m----> 6\u001b[1;33m \u001b[0me_p\u001b[0m \u001b[1;33m=\u001b[0m \u001b[0mnp\u001b[0m\u001b[1;33m.\u001b[0m\u001b[0msum\u001b[0m\u001b[1;33m(\u001b[0m\u001b[0moptimize\u001b[0m\u001b[1;33m.\u001b[0m\u001b[0mfsolve\u001b[0m\u001b[1;33m(\u001b[0m\u001b[1;32mlambda\u001b[0m \u001b[0mp\u001b[0m\u001b[1;33m:\u001b[0m \u001b[0mfixed_point\u001b[0m\u001b[1;33m(\u001b[0m\u001b[0mvector_utilities\u001b[0m\u001b[1;33m)\u001b[0m\u001b[1;33m,\u001b[0m \u001b[0minitial_guess\u001b[0m\u001b[1;33m)\u001b[0m\u001b[1;33m)\u001b[0m\u001b[1;33m\u001b[0m\u001b[0m\n\u001b[0m\u001b[0;32m      7\u001b[0m \u001b[1;33m\u001b[0m\u001b[0m\n\u001b[0;32m      8\u001b[0m \u001b[1;33m\u001b[0m\u001b[0m\n",
      "\u001b[1;32m~\\Anaconda3\\lib\\site-packages\\scipy\\optimize\\minpack.py\u001b[0m in \u001b[0;36mfsolve\u001b[1;34m(func, x0, args, fprime, full_output, col_deriv, xtol, maxfev, band, epsfcn, factor, diag)\u001b[0m\n\u001b[0;32m    144\u001b[0m                'diag': diag}\n\u001b[0;32m    145\u001b[0m \u001b[1;33m\u001b[0m\u001b[0m\n\u001b[1;32m--> 146\u001b[1;33m     \u001b[0mres\u001b[0m \u001b[1;33m=\u001b[0m \u001b[0m_root_hybr\u001b[0m\u001b[1;33m(\u001b[0m\u001b[0mfunc\u001b[0m\u001b[1;33m,\u001b[0m \u001b[0mx0\u001b[0m\u001b[1;33m,\u001b[0m \u001b[0margs\u001b[0m\u001b[1;33m,\u001b[0m \u001b[0mjac\u001b[0m\u001b[1;33m=\u001b[0m\u001b[0mfprime\u001b[0m\u001b[1;33m,\u001b[0m \u001b[1;33m**\u001b[0m\u001b[0moptions\u001b[0m\u001b[1;33m)\u001b[0m\u001b[1;33m\u001b[0m\u001b[0m\n\u001b[0m\u001b[0;32m    147\u001b[0m     \u001b[1;32mif\u001b[0m \u001b[0mfull_output\u001b[0m\u001b[1;33m:\u001b[0m\u001b[1;33m\u001b[0m\u001b[0m\n\u001b[0;32m    148\u001b[0m         \u001b[0mx\u001b[0m \u001b[1;33m=\u001b[0m \u001b[0mres\u001b[0m\u001b[1;33m[\u001b[0m\u001b[1;34m'x'\u001b[0m\u001b[1;33m]\u001b[0m\u001b[1;33m\u001b[0m\u001b[0m\n",
      "\u001b[1;32m~\\Anaconda3\\lib\\site-packages\\scipy\\optimize\\minpack.py\u001b[0m in \u001b[0;36m_root_hybr\u001b[1;34m(func, x0, args, jac, col_deriv, xtol, maxfev, band, eps, factor, diag, **unknown_options)\u001b[0m\n\u001b[0;32m    210\u001b[0m     \u001b[1;32mif\u001b[0m \u001b[1;32mnot\u001b[0m \u001b[0misinstance\u001b[0m\u001b[1;33m(\u001b[0m\u001b[0margs\u001b[0m\u001b[1;33m,\u001b[0m \u001b[0mtuple\u001b[0m\u001b[1;33m)\u001b[0m\u001b[1;33m:\u001b[0m\u001b[1;33m\u001b[0m\u001b[0m\n\u001b[0;32m    211\u001b[0m         \u001b[0margs\u001b[0m \u001b[1;33m=\u001b[0m \u001b[1;33m(\u001b[0m\u001b[0margs\u001b[0m\u001b[1;33m,\u001b[0m\u001b[1;33m)\u001b[0m\u001b[1;33m\u001b[0m\u001b[0m\n\u001b[1;32m--> 212\u001b[1;33m     \u001b[0mshape\u001b[0m\u001b[1;33m,\u001b[0m \u001b[0mdtype\u001b[0m \u001b[1;33m=\u001b[0m \u001b[0m_check_func\u001b[0m\u001b[1;33m(\u001b[0m\u001b[1;34m'fsolve'\u001b[0m\u001b[1;33m,\u001b[0m \u001b[1;34m'func'\u001b[0m\u001b[1;33m,\u001b[0m \u001b[0mfunc\u001b[0m\u001b[1;33m,\u001b[0m \u001b[0mx0\u001b[0m\u001b[1;33m,\u001b[0m \u001b[0margs\u001b[0m\u001b[1;33m,\u001b[0m \u001b[0mn\u001b[0m\u001b[1;33m,\u001b[0m \u001b[1;33m(\u001b[0m\u001b[0mn\u001b[0m\u001b[1;33m,\u001b[0m\u001b[1;33m)\u001b[0m\u001b[1;33m)\u001b[0m\u001b[1;33m\u001b[0m\u001b[0m\n\u001b[0m\u001b[0;32m    213\u001b[0m     \u001b[1;32mif\u001b[0m \u001b[0mepsfcn\u001b[0m \u001b[1;32mis\u001b[0m \u001b[1;32mNone\u001b[0m\u001b[1;33m:\u001b[0m\u001b[1;33m\u001b[0m\u001b[0m\n\u001b[0;32m    214\u001b[0m         \u001b[0mepsfcn\u001b[0m \u001b[1;33m=\u001b[0m \u001b[0mfinfo\u001b[0m\u001b[1;33m(\u001b[0m\u001b[0mdtype\u001b[0m\u001b[1;33m)\u001b[0m\u001b[1;33m.\u001b[0m\u001b[0meps\u001b[0m\u001b[1;33m\u001b[0m\u001b[0m\n",
      "\u001b[1;32m~\\Anaconda3\\lib\\site-packages\\scipy\\optimize\\minpack.py\u001b[0m in \u001b[0;36m_check_func\u001b[1;34m(checker, argname, thefunc, x0, args, numinputs, output_shape)\u001b[0m\n\u001b[0;32m     24\u001b[0m def _check_func(checker, argname, thefunc, x0, args, numinputs,\n\u001b[0;32m     25\u001b[0m                 output_shape=None):\n\u001b[1;32m---> 26\u001b[1;33m     \u001b[0mres\u001b[0m \u001b[1;33m=\u001b[0m \u001b[0matleast_1d\u001b[0m\u001b[1;33m(\u001b[0m\u001b[0mthefunc\u001b[0m\u001b[1;33m(\u001b[0m\u001b[1;33m*\u001b[0m\u001b[1;33m(\u001b[0m\u001b[1;33m(\u001b[0m\u001b[0mx0\u001b[0m\u001b[1;33m[\u001b[0m\u001b[1;33m:\u001b[0m\u001b[0mnuminputs\u001b[0m\u001b[1;33m]\u001b[0m\u001b[1;33m,\u001b[0m\u001b[1;33m)\u001b[0m \u001b[1;33m+\u001b[0m \u001b[0margs\u001b[0m\u001b[1;33m)\u001b[0m\u001b[1;33m)\u001b[0m\u001b[1;33m)\u001b[0m\u001b[1;33m\u001b[0m\u001b[0m\n\u001b[0m\u001b[0;32m     27\u001b[0m     \u001b[1;32mif\u001b[0m \u001b[1;33m(\u001b[0m\u001b[0moutput_shape\u001b[0m \u001b[1;32mis\u001b[0m \u001b[1;32mnot\u001b[0m \u001b[1;32mNone\u001b[0m\u001b[1;33m)\u001b[0m \u001b[1;32mand\u001b[0m \u001b[1;33m(\u001b[0m\u001b[0mshape\u001b[0m\u001b[1;33m(\u001b[0m\u001b[0mres\u001b[0m\u001b[1;33m)\u001b[0m \u001b[1;33m!=\u001b[0m \u001b[0moutput_shape\u001b[0m\u001b[1;33m)\u001b[0m\u001b[1;33m:\u001b[0m\u001b[1;33m\u001b[0m\u001b[0m\n\u001b[0;32m     28\u001b[0m         \u001b[1;32mif\u001b[0m \u001b[1;33m(\u001b[0m\u001b[0moutput_shape\u001b[0m\u001b[1;33m[\u001b[0m\u001b[1;36m0\u001b[0m\u001b[1;33m]\u001b[0m \u001b[1;33m!=\u001b[0m \u001b[1;36m1\u001b[0m\u001b[1;33m)\u001b[0m\u001b[1;33m:\u001b[0m\u001b[1;33m\u001b[0m\u001b[0m\n",
      "\u001b[1;32m<ipython-input-92-d5c060decc52>\u001b[0m in \u001b[0;36m<lambda>\u001b[1;34m(p)\u001b[0m\n\u001b[0;32m      4\u001b[0m \u001b[0minitial_guess\u001b[0m \u001b[1;33m=\u001b[0m \u001b[1;33m[\u001b[0m\u001b[1;36m0\u001b[0m\u001b[1;33m]\u001b[0m\u001b[1;33m\u001b[0m\u001b[0m\n\u001b[0;32m      5\u001b[0m \u001b[1;33m\u001b[0m\u001b[0m\n\u001b[1;32m----> 6\u001b[1;33m \u001b[0me_p\u001b[0m \u001b[1;33m=\u001b[0m \u001b[0mnp\u001b[0m\u001b[1;33m.\u001b[0m\u001b[0msum\u001b[0m\u001b[1;33m(\u001b[0m\u001b[0moptimize\u001b[0m\u001b[1;33m.\u001b[0m\u001b[0mfsolve\u001b[0m\u001b[1;33m(\u001b[0m\u001b[1;32mlambda\u001b[0m \u001b[0mp\u001b[0m\u001b[1;33m:\u001b[0m \u001b[0mfixed_point\u001b[0m\u001b[1;33m(\u001b[0m\u001b[0mvector_utilities\u001b[0m\u001b[1;33m)\u001b[0m\u001b[1;33m,\u001b[0m \u001b[0minitial_guess\u001b[0m\u001b[1;33m)\u001b[0m\u001b[1;33m)\u001b[0m\u001b[1;33m\u001b[0m\u001b[0m\n\u001b[0m\u001b[0;32m      7\u001b[0m \u001b[1;33m\u001b[0m\u001b[0m\n\u001b[0;32m      8\u001b[0m \u001b[1;33m\u001b[0m\u001b[0m\n",
      "\u001b[1;32m<ipython-input-92-d5c060decc52>\u001b[0m in \u001b[0;36mfixed_point\u001b[1;34m(vector_utilities)\u001b[0m\n\u001b[0;32m      1\u001b[0m \u001b[1;32mdef\u001b[0m \u001b[0mfixed_point\u001b[0m\u001b[1;33m(\u001b[0m\u001b[0mvector_utilities\u001b[0m\u001b[1;33m)\u001b[0m\u001b[1;33m:\u001b[0m\u001b[1;33m\u001b[0m\u001b[0m\n\u001b[1;32m----> 2\u001b[1;33m     \u001b[1;32mreturn\u001b[0m \u001b[1;33m[\u001b[0m\u001b[0mvector_utilities\u001b[0m\u001b[1;33m[\u001b[0m\u001b[1;36m0\u001b[0m\u001b[1;33m]\u001b[0m\u001b[1;33m-\u001b[0m\u001b[0mreaction\u001b[0m\u001b[1;33m(\u001b[0m\u001b[0mvector_utilities\u001b[0m\u001b[1;33m[\u001b[0m\u001b[1;36m1\u001b[0m\u001b[1;33m]\u001b[0m\u001b[1;33m)\u001b[0m\u001b[1;33m]\u001b[0m\u001b[1;33m\u001b[0m\u001b[0m\n\u001b[0m\u001b[0;32m      3\u001b[0m \u001b[1;33m\u001b[0m\u001b[0m\n\u001b[0;32m      4\u001b[0m \u001b[0minitial_guess\u001b[0m \u001b[1;33m=\u001b[0m \u001b[1;33m[\u001b[0m\u001b[1;36m0\u001b[0m\u001b[1;33m]\u001b[0m\u001b[1;33m\u001b[0m\u001b[0m\n\u001b[0;32m      5\u001b[0m \u001b[1;33m\u001b[0m\u001b[0m\n",
      "\u001b[1;31mNameError\u001b[0m: name 'reaction' is not defined"
     ]
    }
   ],
   "source": [
    "def fixed_point(vector_utilities):\n",
    "    return [vector_utilities[0]-reaction(vector_utilities[1])]\n",
    "\n",
    "initial_guess = [0]\n",
    "\n",
    "e_p = np.sum(optimize.fsolve(lambda p: fixed_point(vector_utilities), initial_guess))\n",
    "\n",
    "\n",
    "\n"
   ]
  },
  {
   "cell_type": "markdown",
   "metadata": {},
   "source": [
    "## Github\n",
    "\n",
    "After you have finished, we need to upload this notebook on github."
   ]
  },
  {
   "cell_type": "markdown",
   "metadata": {},
   "source": [
    "Instructions on how to upload this on github can be found [on this page](http://janboone.github.io/programming-for-economists/github.html). This page has two screencasts: one shows how to drag the notebook onto your github page, the other shows how you can use the command line to upload your notebook.\n"
   ]
  },
  {
   "cell_type": "markdown",
   "metadata": {},
   "source": [
    "Remember to update the README file in your repository to include a link to this notebook on github.\n",
    "\n",
    "\n",
    "The links that you should post start with “github.com/” and are NOT of the form “http://localhost”. Make sure you test your links after uploading."
   ]
  },
  {
   "cell_type": "code",
   "execution_count": null,
   "metadata": {},
   "outputs": [],
   "source": []
  }
 ],
 "metadata": {
  "anaconda-cloud": {},
  "kernelspec": {
   "display_name": "Python 3",
   "language": "python",
   "name": "python3"
  },
  "language_info": {
   "codemirror_mode": {
    "name": "ipython",
    "version": 3
   },
   "file_extension": ".py",
   "mimetype": "text/x-python",
   "name": "python",
   "nbconvert_exporter": "python",
   "pygments_lexer": "ipython3",
   "version": "3.6.4"
  }
 },
 "nbformat": 4,
 "nbformat_minor": 1
}
