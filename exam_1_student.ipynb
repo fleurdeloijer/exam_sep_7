{
 "cells": [
  {
   "cell_type": "markdown",
   "metadata": {},
   "source": [
    "# Exam R\n",
    "Mark Klik & Misja Mikkers\n",
    "\n",
    "# Introduction\n",
    "\n",
    "Before you turn this problem in, make sure everything runs as expected. First, **restart the kernel** (in the menubar, select Kernel$\\rightarrow$Restart) and then **run all cells** (in the menubar, select Cell$\\rightarrow$Run All).\n",
    "\n",
    "Make sure you fill in any place that says `YOUR CODE HERE` or \"YOUR ANSWER HERE\", as well as your name and collaborators below:\n",
    "\n"
   ]
  },
  {
   "cell_type": "code",
   "execution_count": 1,
   "metadata": {},
   "outputs": [],
   "source": [
    "NAME = \"Florentia de Loijer, 2010437\"\n",
    "COLLABORATORS = \"\""
   ]
  },
  {
   "cell_type": "markdown",
   "metadata": {},
   "source": [
    "Fill in the cell above to provide us with your name and student number, like\n",
    "\n",
    "NAME = \"Adam Smith, #student number#\"\n",
    "\n",
    "where you replace \"#student number#\" with your ... (very good!)\n",
    "\n",
    "Unfortunately, you are not allowed to work with \"COLLABORATORS\" in this exam.\n",
    "\n",
    "## exam September 7th, 2018\n",
    "\n",
    "With this R part of the exam you can earn at max. 4 points.\n",
    "\n",
    "In the first cell of the notebook, give us your name and student number in the way indicated above.\n",
    "\n",
    "Fill in the notebook (see below for code cells and text cells that you need to fill in).\n",
    "\n",
    "If you look at the menus above (File, Edit, View etc.), there is one called \"Cell\". If you click on this, you can change the \"Cell Type\". Choose \"Code\" when you are typing python or R code. Choose \"Markdown\" when you are typing, well, markdown.\n",
    "\n",
    "When you finish the notebook, make sure that you save it with the output of your code included.\n",
    "\n",
    "Then put it on github, e.g. by dragging it onto github (see instructions below).\n",
    "\n",
    "Finally, add a link to your README file with the name of this exam: \"Exam R September 7, 2018\".\n",
    "\n",
    "# Packages\n",
    "\n",
    "You will need the following packages for this exam."
   ]
  },
  {
   "cell_type": "code",
   "execution_count": 1,
   "metadata": {},
   "outputs": [
    {
     "name": "stderr",
     "output_type": "stream",
     "text": [
      "-- Attaching packages --------------------------------------- tidyverse 1.2.1 --\n",
      "v ggplot2 2.2.1     v purrr   0.2.4\n",
      "v tibble  1.4.1     v dplyr   0.7.4\n",
      "v tidyr   0.7.2     v stringr 1.2.0\n",
      "v readr   1.1.1     v forcats 0.2.0\n",
      "-- Conflicts ------------------------------------------ tidyverse_conflicts() --\n",
      "x dplyr::filter() masks stats::filter()\n",
      "x dplyr::lag()    masks stats::lag()\n"
     ]
    }
   ],
   "source": [
    "library(tidyverse)\n",
    "library(gvlma)"
   ]
  },
  {
   "cell_type": "markdown",
   "metadata": {},
   "source": [
    "# Assignment 1\n",
    "\n",
    "## Data\n",
    "\n",
    "Please read in \"advertising.csv\" and check the structure.\n",
    "\n",
    "If needed change the variables TV and sales into a numeric variable.\n",
    "\n",
    "Hint: don't forget you cannot change a factor in a numeric variable directly!\n",
    "\n"
   ]
  },
  {
   "cell_type": "code",
   "execution_count": 9,
   "metadata": {},
   "outputs": [],
   "source": [
    "advertising <- read.csv2(\"../exam_sep_7/Advertising(2).csv\")"
   ]
  },
  {
   "cell_type": "code",
   "execution_count": 68,
   "metadata": {},
   "outputs": [
    {
     "data": {
      "text/html": [
       "<table>\n",
       "<thead><tr><th scope=col>Observation</th><th scope=col>TV</th><th scope=col>radio</th><th scope=col>newspaper</th><th scope=col>sales</th></tr></thead>\n",
       "<tbody>\n",
       "\t<tr><td>1    </td><td>230.1</td><td>37.8 </td><td>69.2 </td><td>22.1 </td></tr>\n",
       "\t<tr><td>2    </td><td>44.5 </td><td>39.3 </td><td>45.1 </td><td>10.4 </td></tr>\n",
       "\t<tr><td>3    </td><td>17.2 </td><td>45.9 </td><td>69.3 </td><td>9.3  </td></tr>\n",
       "\t<tr><td>4    </td><td>151.5</td><td>41.3 </td><td>58.5 </td><td>18.5 </td></tr>\n",
       "\t<tr><td>5    </td><td>180.8</td><td>10.8 </td><td>58.4 </td><td>12.9 </td></tr>\n",
       "\t<tr><td>6    </td><td>8.7  </td><td>48.9 </td><td>75   </td><td>7.2  </td></tr>\n",
       "</tbody>\n",
       "</table>\n"
      ],
      "text/latex": [
       "\\begin{tabular}{r|lllll}\n",
       " Observation & TV & radio & newspaper & sales\\\\\n",
       "\\hline\n",
       "\t 1     & 230.1 & 37.8  & 69.2  & 22.1 \\\\\n",
       "\t 2     & 44.5  & 39.3  & 45.1  & 10.4 \\\\\n",
       "\t 3     & 17.2  & 45.9  & 69.3  & 9.3  \\\\\n",
       "\t 4     & 151.5 & 41.3  & 58.5  & 18.5 \\\\\n",
       "\t 5     & 180.8 & 10.8  & 58.4  & 12.9 \\\\\n",
       "\t 6     & 8.7   & 48.9  & 75    & 7.2  \\\\\n",
       "\\end{tabular}\n"
      ],
      "text/markdown": [
       "\n",
       "Observation | TV | radio | newspaper | sales | \n",
       "|---|---|---|---|---|---|\n",
       "| 1     | 230.1 | 37.8  | 69.2  | 22.1  | \n",
       "| 2     | 44.5  | 39.3  | 45.1  | 10.4  | \n",
       "| 3     | 17.2  | 45.9  | 69.3  | 9.3   | \n",
       "| 4     | 151.5 | 41.3  | 58.5  | 18.5  | \n",
       "| 5     | 180.8 | 10.8  | 58.4  | 12.9  | \n",
       "| 6     | 8.7   | 48.9  | 75    | 7.2   | \n",
       "\n",
       "\n"
      ],
      "text/plain": [
       "  Observation TV    radio newspaper sales\n",
       "1 1           230.1 37.8  69.2      22.1 \n",
       "2 2           44.5  39.3  45.1      10.4 \n",
       "3 3           17.2  45.9  69.3      9.3  \n",
       "4 4           151.5 41.3  58.5      18.5 \n",
       "5 5           180.8 10.8  58.4      12.9 \n",
       "6 6           8.7   48.9  75        7.2  "
      ]
     },
     "metadata": {},
     "output_type": "display_data"
    },
    {
     "name": "stdout",
     "output_type": "stream",
     "text": [
      "'data.frame':\t200 obs. of  5 variables:\n",
      " $ Observation: int  1 2 3 4 5 6 7 8 9 10 ...\n",
      " $ TV         : Factor w/ 190 levels \"0.7\",\"100.4\",..: 98 149 44 35 54 178 156 12 177 69 ...\n",
      " $ radio      : Factor w/ 167 levels \"0\",\"0.3\",\"0.4\",..: 113 118 141 127 13 148 93 40 42 45 ...\n",
      " $ newspaper  : Factor w/ 172 levels \"0.3\",\"0.9\",\"1\",..: 150 106 151 138 137 158 54 11 3 45 ...\n",
      " $ sales      : Factor w/ 121 levels \"1.6\",\"10.1\",\"10.3\",..: 79 4 116 62 27 105 17 28 95 6 ...\n"
     ]
    }
   ],
   "source": [
    "head(advertising)\n",
    "str(advertising)"
   ]
  },
  {
   "cell_type": "code",
   "execution_count": 109,
   "metadata": {},
   "outputs": [],
   "source": [
    "advertising1 <- read.csv2(\"../exam_sep_7/Advertising(2).csv\") %>%\n",
    "mutate(sales = as.numeric(as.character(sales))) %>%\n",
    "mutate(TV = as.numeric(as.character(TV)))"
   ]
  },
  {
   "cell_type": "code",
   "execution_count": 110,
   "metadata": {},
   "outputs": [
    {
     "name": "stdout",
     "output_type": "stream",
     "text": [
      "'data.frame':\t200 obs. of  5 variables:\n",
      " $ Observation: int  1 2 3 4 5 6 7 8 9 10 ...\n",
      " $ TV         : num  230.1 44.5 17.2 151.5 180.8 ...\n",
      " $ radio      : Factor w/ 167 levels \"0\",\"0.3\",\"0.4\",..: 113 118 141 127 13 148 93 40 42 45 ...\n",
      " $ newspaper  : Factor w/ 172 levels \"0.3\",\"0.9\",\"1\",..: 150 106 151 138 137 158 54 11 3 45 ...\n",
      " $ sales      : num  22.1 10.4 9.3 18.5 12.9 7.2 11.8 13.2 4.8 10.6 ...\n"
     ]
    }
   ],
   "source": [
    "str(advertising1)"
   ]
  },
  {
   "cell_type": "markdown",
   "metadata": {},
   "source": [
    "\n",
    "\n",
    "## Regression \n",
    "\n",
    "You will now have to run a regression with sales as a function of TV. Show the summary statistics and check if the assumptions of linear regression are met (hint: use package gvlma)."
   ]
  },
  {
   "cell_type": "code",
   "execution_count": 112,
   "metadata": {},
   "outputs": [
    {
     "data": {
      "text/plain": [
       "\n",
       "Call:\n",
       "lm(formula = sales ~ TV, data = advertising1)\n",
       "\n",
       "Residuals:\n",
       "    Min      1Q  Median      3Q     Max \n",
       "-8.3860 -1.9545 -0.1913  2.0671  7.2124 \n",
       "\n",
       "Coefficients:\n",
       "            Estimate Std. Error t value Pr(>|t|)    \n",
       "(Intercept) 7.032594   0.457843   15.36   <2e-16 ***\n",
       "TV          0.047537   0.002691   17.67   <2e-16 ***\n",
       "---\n",
       "Signif. codes:  0 '***' 0.001 '**' 0.01 '*' 0.05 '.' 0.1 ' ' 1\n",
       "\n",
       "Residual standard error: 3.259 on 198 degrees of freedom\n",
       "Multiple R-squared:  0.6119,\tAdjusted R-squared:  0.6099 \n",
       "F-statistic: 312.1 on 1 and 198 DF,  p-value: < 2.2e-16\n"
      ]
     },
     "metadata": {},
     "output_type": "display_data"
    }
   ],
   "source": [
    "regression <- lm(sales ~ TV, data=advertising1)\n",
    "summary(regression)"
   ]
  },
  {
   "cell_type": "code",
   "execution_count": 113,
   "metadata": {},
   "outputs": [
    {
     "data": {
      "text/plain": [
       "\n",
       "Call:\n",
       "lm(formula = sales ~ TV, data = advertising1)\n",
       "\n",
       "Coefficients:\n",
       "(Intercept)           TV  \n",
       "    7.03259      0.04754  \n",
       "\n",
       "\n",
       "ASSESSMENT OF THE LINEAR MODEL ASSUMPTIONS\n",
       "USING THE GLOBAL TEST ON 4 DEGREES-OF-FREEDOM:\n",
       "Level of Significance =  0.05 \n",
       "\n",
       "Call:\n",
       " gvlma(x = regression) \n",
       "\n",
       "                    Value p-value                Decision\n",
       "Global Stat        5.3240 0.25564 Assumptions acceptable.\n",
       "Skewness           0.2619 0.60885 Assumptions acceptable.\n",
       "Kurtosis           0.4070 0.52352 Assumptions acceptable.\n",
       "Link Function      3.6906 0.05472 Assumptions acceptable.\n",
       "Heteroscedasticity 0.9646 0.32602 Assumptions acceptable."
      ]
     },
     "metadata": {},
     "output_type": "display_data"
    }
   ],
   "source": [
    "gvlma(regression)"
   ]
  },
  {
   "cell_type": "markdown",
   "metadata": {},
   "source": [
    "According to the gvlma function, all assumptions are acceptable and the numbers are the same. "
   ]
  },
  {
   "cell_type": "markdown",
   "metadata": {},
   "source": [
    "## Plot\n",
    "\n",
    "Now you have to make a scatter plot of the data:\n",
    "\n",
    "* with TV on the x-axis\n",
    "* sales on the y-axis\n",
    "* the regression line in green, with confidence interval\n",
    "* in a light theme\n"
   ]
  },
  {
   "cell_type": "code",
   "execution_count": 122,
   "metadata": {},
   "outputs": [
    {
     "data": {},
     "metadata": {},
     "output_type": "display_data"
    },
    {
     "data": {
      "image/png": "[encoded data removed]",
      "text/plain": [
       "plot without title"
      ]
     },
     "metadata": {},
     "output_type": "display_data"
    }
   ],
   "source": [
    "ggplot(data=advertising1, aes(x=TV, y=sales)) + geom_point(color='orange', size=2, shape=25) +geom_smooth(method=lm, color='green') +theme_light()"
   ]
  },
  {
   "cell_type": "markdown",
   "metadata": {},
   "source": [
    "End of notebook"
   ]
  }
 ],
 "metadata": {
  "anaconda-cloud": {},
  "kernelspec": {
   "display_name": "R",
   "language": "R",
   "name": "ir"
  },
  "language_info": {
   "codemirror_mode": "r",
   "file_extension": ".r",
   "mimetype": "text/x-r-source",
   "name": "R",
   "pygments_lexer": "r",
   "version": "3.4.3"
  }
 },
 "nbformat": 4,
 "nbformat_minor": 1
}
